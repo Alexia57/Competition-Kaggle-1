{
 "cells": [
  {
   "cell_type": "code",
   "execution_count": 11,
   "metadata": {},
   "outputs": [],
   "source": [
    "import pandas as pd\n",
    "import numpy as np\n",
    "import eli5\n",
    "from hw4 import *"
   ]
  },
  {
   "cell_type": "code",
   "execution_count": 12,
   "metadata": {},
   "outputs": [],
   "source": [
    "train_data = pd.read_csv(\"train.csv\")\n",
    "test_data = pd.read_csv(\"test.csv\")"
   ]
  },
  {
   "cell_type": "code",
   "execution_count": 13,
   "metadata": {},
   "outputs": [],
   "source": [
    "# Diviser l'ensemble de données en ensembles d'entraînement et de validation\n",
    "X_train, X_val, y_train, y_val = split_data(train_data, \"Label\")"
   ]
  },
  {
   "cell_type": "code",
   "execution_count": 14,
   "metadata": {},
   "outputs": [],
   "source": [
    "import numpy as np\n",
    "from sklearn.datasets import make_classification\n",
    "from sklearn.linear_model import Perceptron\n",
    "from sklearn.model_selection import train_test_split\n",
    "from sklearn.metrics import accuracy_score, classification_report\n"
   ]
  },
  {
   "cell_type": "code",
   "execution_count": 21,
   "metadata": {},
   "outputs": [
    {
     "data": {
      "text/plain": [
       "0.7850201072386059"
      ]
     },
     "execution_count": 21,
     "metadata": {},
     "output_type": "execute_result"
    }
   ],
   "source": [
    "clf = Perceptron(tol=1e-3, random_state=0)\n",
    "clf.fit(X_train, y_train)\n",
    "clf.score(X_train, y_train)"
   ]
  },
  {
   "cell_type": "code",
   "execution_count": 23,
   "metadata": {},
   "outputs": [
    {
     "data": {
      "text/plain": [
       "array([0, 0, 0, ..., 0, 0, 0], dtype=int64)"
      ]
     },
     "execution_count": 23,
     "metadata": {},
     "output_type": "execute_result"
    }
   ],
   "source": [
    "pred = clf.predict(test_data)\n",
    "pred"
   ]
  },
  {
   "cell_type": "markdown",
   "metadata": {},
   "source": [
    "test"
   ]
  },
  {
   "cell_type": "code",
   "execution_count": 30,
   "metadata": {},
   "outputs": [],
   "source": [
    "class Perceptron:\n",
    "\tdef __init__(self, N, alpha=0.1):\n",
    "\t\t# initialize the weight matrix and store the learning rate\n",
    "\t\tself.W = np.random.randn(N + 1) / np.sqrt(N)\n",
    "\t\tself.alpha = alpha\n",
    "\n",
    "\tdef step(self, x):\n",
    "\t\treturn np.where(x > 0, 1, 0)\n",
    "\n",
    "\tdef fit(self, X, y, epochs=10):\n",
    "\t\t# insert a column of 1's as the last entry in the feature\n",
    "\t\t# matrix -- this little trick allows us to treat the bias\n",
    "\t\t# as a trainable parameter within the weight matrix\n",
    "\t\tX = np.c_[X, np.ones((X.shape[0]))]\n",
    "\n",
    "\t\t# loop over the desired number of epochs\n",
    "\t\tfor epoch in np.arange(0, epochs):\n",
    "\t\t\t# loop over each individual data point\n",
    "\t\t\tfor (x, target) in zip(X, y):\n",
    "\t\t\t\t# take the dot product between the input features\n",
    "\t\t\t\t# and the weight matrix, then pass this value\n",
    "\t\t\t\t# through the step function to obtain the prediction\n",
    "\t\t\t\tp = self.step(np.dot(x, self.W))\n",
    "\t\t\t\t# only perform a weight update if our prediction\n",
    "\t\t\t\t# does not match the target\n",
    "\t\t\t\tif p != target:\n",
    "\t\t\t\t\t# determine the error\n",
    "\t\t\t\t\terror = p - target\n",
    "\t\t\t\t\t# update the weight matrix\n",
    "\t\t\t\t\tself.W += -self.alpha * error * x\n",
    "    \n",
    "\tdef predict(self, X, addBias=True):\n",
    "\t\t# ensure our input is a matrix\n",
    "\t\tX = np.atleast_2d(X)\n",
    "\t\t# check to see if the bias column should be added\n",
    "\t\tif addBias:\n",
    "\t\t\t# insert a column of 1's as the last entry in the feature\n",
    "\t\t\t# matrix (bias)\n",
    "\t\t\tX = np.c_[X, np.ones((X.shape[0]))]\n",
    "\t\t# take the dot product between the input features and the\n",
    "\t\t# weight matrix, then pass the value through the step\n",
    "\t\t# function\n",
    "\t\treturn self.step(np.dot(X, self.W))\n",
    "\n",
    "    "
   ]
  },
  {
   "cell_type": "code",
   "execution_count": 31,
   "metadata": {},
   "outputs": [],
   "source": [
    "p = Perceptron(X_train.shape[1], alpha=0.1)"
   ]
  },
  {
   "cell_type": "code",
   "execution_count": 35,
   "metadata": {},
   "outputs": [],
   "source": [
    "p.fit(X_train, y_train, epochs=200)"
   ]
  },
  {
   "cell_type": "code",
   "execution_count": 38,
   "metadata": {},
   "outputs": [],
   "source": [
    "pred = p.predict(test_data)"
   ]
  },
  {
   "cell_type": "code",
   "execution_count": 39,
   "metadata": {},
   "outputs": [
    {
     "data": {
      "text/plain": [
       "array([1, 1, 1, ..., 1, 1, 1])"
      ]
     },
     "execution_count": 39,
     "metadata": {},
     "output_type": "execute_result"
    }
   ],
   "source": [
    "pred"
   ]
  }
 ],
 "metadata": {
  "kernelspec": {
   "display_name": "Python 3.11.5 ('ift6758')",
   "language": "python",
   "name": "python3"
  },
  "language_info": {
   "codemirror_mode": {
    "name": "ipython",
    "version": 3
   },
   "file_extension": ".py",
   "mimetype": "text/x-python",
   "name": "python",
   "nbconvert_exporter": "python",
   "pygments_lexer": "ipython3",
   "version": "3.11.5"
  },
  "orig_nbformat": 4,
  "vscode": {
   "interpreter": {
    "hash": "76f24fe593248544fb53c45860141e2f5868563163d477b8bfa09ccbbd1149dc"
   }
  }
 },
 "nbformat": 4,
 "nbformat_minor": 2
}
